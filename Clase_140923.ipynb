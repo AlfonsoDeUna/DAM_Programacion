{
  "nbformat": 4,
  "nbformat_minor": 0,
  "metadata": {
    "colab": {
      "provenance": [],
      "authorship_tag": "ABX9TyPOEeK/8EqDOW330Ge1hA09",
      "include_colab_link": true
    },
    "kernelspec": {
      "name": "python3",
      "display_name": "Python 3"
    },
    "language_info": {
      "name": "python"
    }
  },
  "cells": [
    {
      "cell_type": "markdown",
      "metadata": {
        "id": "view-in-github",
        "colab_type": "text"
      },
      "source": [
        "<a href=\"https://colab.research.google.com/github/AlfonsoDeUna/DAM_Programacion/blob/main/Clase_140923.ipynb\" target=\"_parent\"><img src=\"https://colab.research.google.com/assets/colab-badge.svg\" alt=\"Open In Colab\"/></a>"
      ]
    },
    {
      "cell_type": "markdown",
      "source": [
        "# CLASE: 14/09/2023\n",
        "\n",
        "## Ejercicios de variables, operaciones con números y cadenas."
      ],
      "metadata": {
        "id": "udTq7Sjyv2vr"
      }
    },
    {
      "cell_type": "markdown",
      "source": [
        "**Ejercicio**: Pide el nombre del usuario y sácalo por pantalla con un mensaje de bienvenida"
      ],
      "metadata": {
        "id": "lXWRDQf4vzJj"
      }
    },
    {
      "cell_type": "code",
      "execution_count": 1,
      "metadata": {
        "id": "EGGhntRUIRf_",
        "colab": {
          "base_uri": "https://localhost:8080/"
        },
        "outputId": "39e9f126-f282-4de5-bd84-4201d2c78159"
      },
      "outputs": [
        {
          "output_type": "stream",
          "name": "stdout",
          "text": [
            "dame tu nombrealfonso\n",
            "bienvenido alfonso\n"
          ]
        }
      ],
      "source": [
        "nombre = input (\"dame tu nombre\")\n",
        "print (\"bienvenido\", nombre)"
      ]
    },
    {
      "cell_type": "markdown",
      "source": [
        "**Ejercicio:** Pide al usuario el año actual y el año que nació y calcula su edad."
      ],
      "metadata": {
        "id": "sxF0Dfb9wFpU"
      }
    },
    {
      "cell_type": "code",
      "source": [
        "anio_actual = input (\"dame en que año estamos\")\n",
        "anio_nacimiento = input (\"dame en que has nacido\")\n",
        "\n",
        "print (int(anio_actual)- int (anio_nacimiento))"
      ],
      "metadata": {
        "colab": {
          "base_uri": "https://localhost:8080/"
        },
        "id": "HjsAboousVCl",
        "outputId": "6c5e0d7d-9ee7-46cf-d7c2-b1afd808500d"
      },
      "execution_count": 4,
      "outputs": [
        {
          "output_type": "stream",
          "name": "stdout",
          "text": [
            "dame en que año estamos2023\n",
            "dame en que has nacido1980\n",
            "43\n"
          ]
        }
      ]
    },
    {
      "cell_type": "markdown",
      "source": [
        "**Valores Booleanos**\n",
        "\n",
        "*True y False 0 y 1 Verdadero y Falso"
      ],
      "metadata": {
        "id": "pBegsk64wMMc"
      }
    },
    {
      "cell_type": "code",
      "source": [
        "True and True"
      ],
      "metadata": {
        "colab": {
          "base_uri": "https://localhost:8080/"
        },
        "id": "CyW7kGubyFpe",
        "outputId": "25bffff4-b9cc-4036-e3c1-233b7e57b08e"
      },
      "execution_count": 7,
      "outputs": [
        {
          "output_type": "execute_result",
          "data": {
            "text/plain": [
              "True"
            ]
          },
          "metadata": {},
          "execution_count": 7
        }
      ]
    },
    {
      "cell_type": "code",
      "source": [
        "x = True\n",
        "y = False\n",
        "\n",
        "print ((x or y) and (y or x))\n",
        "print (x x)"
      ],
      "metadata": {
        "colab": {
          "base_uri": "https://localhost:8080/"
        },
        "id": "ws9ZX3gvyM6V",
        "outputId": "d56a0c7c-2067-4950-87a5-27dd5a5e1744"
      },
      "execution_count": 13,
      "outputs": [
        {
          "output_type": "stream",
          "name": "stdout",
          "text": [
            "True\n",
            "False\n"
          ]
        }
      ]
    },
    {
      "cell_type": "markdown",
      "source": [
        "**Ejemplo de función**: Creamos la función lógica xor que vimos en SI pero con circuitos electrónicos\n",
        "\n",
        "##Concepto de función:\n",
        "Una función es la unidad mínima para crear funcionalidad en los programas."
      ],
      "metadata": {
        "id": "RxTgsrIRwVAv"
      }
    },
    {
      "cell_type": "code",
      "source": [
        "def xor (x, y):\n",
        "  return ((x and not(y) ) or (not(x) and y))\n"
      ],
      "metadata": {
        "id": "7Fns0wS9z0mg"
      },
      "execution_count": 14,
      "outputs": []
    },
    {
      "cell_type": "markdown",
      "source": [
        "Ejemplos de utilización de la función creada. Creación de la tabla de verdad de dos entradas. Es como el circuito que hicimos con la protoboard"
      ],
      "metadata": {
        "id": "6bLdYiQAwp17"
      }
    },
    {
      "cell_type": "code",
      "source": [
        "print (xor (False,False))\n",
        "print (xor (True,False))\n",
        "print (xor (False,True))\n",
        "print (xor (True,True))"
      ],
      "metadata": {
        "colab": {
          "base_uri": "https://localhost:8080/"
        },
        "id": "UdN8Cn8y0Rmk",
        "outputId": "4521b1f8-d574-4361-97be-fa85bda78eda"
      },
      "execution_count": 17,
      "outputs": [
        {
          "output_type": "stream",
          "name": "stdout",
          "text": [
            "False\n",
            "True\n",
            "True\n",
            "False\n"
          ]
        }
      ]
    },
    {
      "cell_type": "markdown",
      "source": [
        "##Vamos a ver ahora funciones importantes con las cadenas\n",
        "* LStrip() quita espacios por la izquierda\n",
        "* RStrip() quita espacios por la derecha\n",
        "* Strip() quita espacios por la derecha y la izquierda de una cadena\n",
        "* lower() convierte la cadena en minúsculas\n",
        "* upper() convierte la cadena en mayúsculas\n",
        "* title() pone en mayúsculas el comienzo de la cadena"
      ],
      "metadata": {
        "id": "B7CkdZr9w1na"
      }
    },
    {
      "cell_type": "code",
      "source": [
        "texto = \" BienVenido \"\n",
        "print (texto + \"alfonso\")\n",
        "print (texto.strip() + \"alfonso\")\n",
        "print (texto.lower())\n"
      ],
      "metadata": {
        "colab": {
          "base_uri": "https://localhost:8080/"
        },
        "id": "_no5pQOY-Cn2",
        "outputId": "eadb5547-6651-410b-a5da-80757639f504"
      },
      "execution_count": 29,
      "outputs": [
        {
          "output_type": "stream",
          "name": "stdout",
          "text": [
            " BienVenido alfonso\n",
            "BienVenidoalfonso\n",
            " bienvenido \n"
          ]
        }
      ]
    },
    {
      "cell_type": "markdown",
      "source": [
        "## Colecciones de datos"
      ],
      "metadata": {
        "id": "GbgmRzhcxWqA"
      }
    },
    {
      "cell_type": "code",
      "source": [
        "lista = [\"renault\", \"mercedes\", \"ferrari\"]"
      ],
      "metadata": {
        "id": "YhyC7bNl_04O"
      },
      "execution_count": 30,
      "outputs": []
    },
    {
      "cell_type": "code",
      "source": [
        "lista[3]"
      ],
      "metadata": {
        "colab": {
          "base_uri": "https://localhost:8080/",
          "height": 177
        },
        "id": "TKLUS4t3ADlG",
        "outputId": "fea56fb8-ff4c-499d-90a8-4461b85418f7"
      },
      "execution_count": 33,
      "outputs": [
        {
          "output_type": "error",
          "ename": "IndexError",
          "evalue": "ignored",
          "traceback": [
            "\u001b[0;31m---------------------------------------------------------------------------\u001b[0m",
            "\u001b[0;31mIndexError\u001b[0m                                Traceback (most recent call last)",
            "\u001b[0;32m<ipython-input-33-34a960744870>\u001b[0m in \u001b[0;36m<cell line: 1>\u001b[0;34m()\u001b[0m\n\u001b[0;32m----> 1\u001b[0;31m \u001b[0mlista\u001b[0m\u001b[0;34m[\u001b[0m\u001b[0;36m3\u001b[0m\u001b[0;34m]\u001b[0m\u001b[0;34m\u001b[0m\u001b[0;34m\u001b[0m\u001b[0m\n\u001b[0m",
            "\u001b[0;31mIndexError\u001b[0m: list index out of range"
          ]
        }
      ]
    },
    {
      "cell_type": "markdown",
      "source": [
        "### Añadir elementos a una colección vacía"
      ],
      "metadata": {
        "id": "RPSLfOExxcRk"
      }
    },
    {
      "cell_type": "code",
      "source": [
        "lista_vacia = []\n",
        "lista_vacia.append(\"hola\")\n",
        "lista_vacia.append(\"hola2\")\n"
      ],
      "metadata": {
        "id": "yYax6bLiA3IV"
      },
      "execution_count": 38,
      "outputs": []
    }
  ]
}