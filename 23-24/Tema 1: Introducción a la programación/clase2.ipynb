{
  "nbformat": 4,
  "nbformat_minor": 0,
  "metadata": {
    "colab": {
      "provenance": [],
      "authorship_tag": "ABX9TyPDdYPf9o7D5Wbg4cAZMKWk",
      "include_colab_link": true
    },
    "kernelspec": {
      "name": "python3",
      "display_name": "Python 3"
    },
    "language_info": {
      "name": "python"
    }
  },
  "cells": [
    {
      "cell_type": "markdown",
      "metadata": {
        "id": "view-in-github",
        "colab_type": "text"
      },
      "source": [
        "<a href=\"https://colab.research.google.com/github/AlfonsoDeUna/DAM_Programacion/blob/main/120923_clase.ipynb\" target=\"_parent\"><img src=\"https://colab.research.google.com/assets/colab-badge.svg\" alt=\"Open In Colab\"/></a>"
      ]
    },
    {
      "cell_type": "markdown",
      "source": [
        "# Ejercicios básicos de Python\n",
        "\n",
        "ENVÍO DE TEXTO A PANTALLA\n",
        "\n"
      ],
      "metadata": {
        "id": "uJqCpn18KZiw"
      }
    },
    {
      "cell_type": "code",
      "source": [
        "print ('hola mundo')\n",
        "print (\"hola mundo\")"
      ],
      "metadata": {
        "colab": {
          "base_uri": "https://localhost:8080/"
        },
        "id": "YlMpEVoULHa9",
        "outputId": "26d22079-fccd-4d65-b869-aba05a06d45c"
      },
      "execution_count": null,
      "outputs": [
        {
          "output_type": "stream",
          "name": "stdout",
          "text": [
            "hola mundo\n",
            "hola mundo\n"
          ]
        }
      ]
    },
    {
      "cell_type": "markdown",
      "source": [
        "# TIPOS DE DATOS\n",
        "\n",
        "* TEXTO --> CADENAS: UN CONJUNTO DE CARACTERES (STRINGS)\n",
        "* NÚMERO --> (ENTEROS, DECIMALES)\n",
        "* BOOLEANOS ---> TRUE O FALSE (1 ó 0) sí o no\n",
        "\n",
        "\n",
        "\n"
      ],
      "metadata": {
        "id": "LHnp_8cnMWvQ"
      }
    },
    {
      "cell_type": "code",
      "source": [
        "print (3) // ESTO ES UN NÚMERO ENTERO\n",
        "print (4.56) // ESTO ES UN NÚMERO DECIMAL\n",
        "print (True) // ESTO ES UN BOOLEANO QUE ESUN VALOR BINARIO 1,0 TRUE,FALSE VERDADERO, FALSO\n",
        "\n"
      ],
      "metadata": {
        "colab": {
          "base_uri": "https://localhost:8080/"
        },
        "id": "Jt4ZO1k8N4dL",
        "outputId": "6e27d418-95d0-4964-be76-a5e7d0dafff1"
      },
      "execution_count": null,
      "outputs": [
        {
          "output_type": "stream",
          "name": "stdout",
          "text": [
            "3\n",
            "4.56\n",
            "True\n"
          ]
        }
      ]
    },
    {
      "cell_type": "markdown",
      "source": [
        "**¿Qué diferencia hay entre un número y una cadena?**\n",
        "\n"
      ],
      "metadata": {
        "id": "4PHKq-ppOk5x"
      }
    },
    {
      "cell_type": "code",
      "source": [
        "print (\"3\")\n",
        "print (3)"
      ],
      "metadata": {
        "colab": {
          "base_uri": "https://localhost:8080/"
        },
        "id": "EciyXE7nOp0t",
        "outputId": "99435dd0-a7af-4343-d299-a73d54c254a1"
      },
      "execution_count": null,
      "outputs": [
        {
          "output_type": "stream",
          "name": "stdout",
          "text": [
            "3\n",
            "3\n"
          ]
        }
      ]
    },
    {
      "cell_type": "markdown",
      "source": [
        "**Operaciones con números: sumar, restar, multiplicar y dividir**\n",
        "+, -, *, /"
      ],
      "metadata": {
        "id": "kN3g7SmgtH0D"
      }
    },
    {
      "cell_type": "code",
      "source": [
        "print (3 + 3)"
      ],
      "metadata": {
        "colab": {
          "base_uri": "https://localhost:8080/"
        },
        "id": "-2EFrGMDPCxt",
        "outputId": "96c9a497-7d75-438d-ca81-124c7f620013"
      },
      "execution_count": null,
      "outputs": [
        {
          "output_type": "stream",
          "name": "stdout",
          "text": [
            "6\n"
          ]
        }
      ]
    },
    {
      "cell_type": "code",
      "source": [
        "print (\"Alfonso\" + \" \" + \"De\")\n",
        "print (\"Alfonso\" + \" De\")"
      ],
      "metadata": {
        "colab": {
          "base_uri": "https://localhost:8080/"
        },
        "id": "-p0PDm7UPLYN",
        "outputId": "1c8b7193-d637-4804-a569-8ba7c90a816c"
      },
      "execution_count": null,
      "outputs": [
        {
          "output_type": "stream",
          "name": "stdout",
          "text": [
            "Alfonso De\n",
            "Alfonso De\n"
          ]
        }
      ]
    },
    {
      "cell_type": "code",
      "source": [
        "mensaje = \"hola\"\n"
      ],
      "metadata": {
        "id": "uVIMNjkEaZwW"
      },
      "execution_count": null,
      "outputs": []
    },
    {
      "cell_type": "code",
      "source": [
        "mensaje"
      ],
      "metadata": {
        "colab": {
          "base_uri": "https://localhost:8080/",
          "height": 35
        },
        "id": "I_5YjaPwalW2",
        "outputId": "f30d44b8-160e-46d1-beb7-46defcd68306"
      },
      "execution_count": null,
      "outputs": [
        {
          "output_type": "execute_result",
          "data": {
            "text/plain": [
              "'hola'"
            ],
            "application/vnd.google.colaboratory.intrinsic+json": {
              "type": "string"
            }
          },
          "metadata": {},
          "execution_count": 15
        }
      ]
    },
    {
      "cell_type": "markdown",
      "source": [
        "**Ejercicio: crea una variable que se llame mensaje y guarde \"hola mundo\" y lo sacamos por pantalla**"
      ],
      "metadata": {
        "id": "qn27muWCbBr9"
      }
    },
    {
      "cell_type": "code",
      "source": [
        "mensaje = \"buenas tardes\"\n",
        "print (mensaje)\n",
        "print (mensaje)\n",
        "print (mensaje)\n",
        "print (mensaje)\n",
        "print (mensaje)"
      ],
      "metadata": {
        "colab": {
          "base_uri": "https://localhost:8080/"
        },
        "id": "DvNGt1G9bRzb",
        "outputId": "49ef5ae8-0849-4680-89e7-1508e0f31212"
      },
      "execution_count": null,
      "outputs": [
        {
          "output_type": "stream",
          "name": "stdout",
          "text": [
            "buenas tardes\n",
            "buenas tardes\n",
            "buenas tardes\n",
            "buenas tardes\n",
            "buenas tardes\n"
          ]
        }
      ]
    },
    {
      "cell_type": "code",
      "source": [
        "OPERACIÓN * CON NÚMERO SUMA Y OPERACIÓN + TEXTO O CADENA CONCATENA"
      ],
      "metadata": {
        "id": "0ST06PNVuRYp"
      },
      "execution_count": null,
      "outputs": []
    },
    {
      "cell_type": "code",
      "source": [
        "5 +5"
      ],
      "metadata": {
        "colab": {
          "base_uri": "https://localhost:8080/"
        },
        "id": "M1aioDOQcL2d",
        "outputId": "27df087b-8536-42a2-f2e7-c756b9018fb0"
      },
      "execution_count": null,
      "outputs": [
        {
          "output_type": "execute_result",
          "data": {
            "text/plain": [
              "10"
            ]
          },
          "metadata": {},
          "execution_count": 22
        }
      ]
    },
    {
      "cell_type": "code",
      "source": [
        "resultado = 5 + 5"
      ],
      "metadata": {
        "id": "3EEFdY8HcR6c"
      },
      "execution_count": null,
      "outputs": []
    },
    {
      "cell_type": "markdown",
      "source": [
        "vamos a ver qué pasa si escribo algo mal"
      ],
      "metadata": {
        "id": "2nv2zVtscld0"
      }
    },
    {
      "cell_type": "code",
      "source": [
        "mensaje_bienvenida = \"hola\"\n",
        "print (mensaje_benvenida)"
      ],
      "metadata": {
        "colab": {
          "base_uri": "https://localhost:8080/",
          "height": 196
        },
        "id": "HzwuXjc3ciRs",
        "outputId": "4f1449e6-e1da-4610-8f57-a9aeda38a274"
      },
      "execution_count": null,
      "outputs": [
        {
          "output_type": "error",
          "ename": "NameError",
          "evalue": "ignored",
          "traceback": [
            "\u001b[0;31m---------------------------------------------------------------------------\u001b[0m",
            "\u001b[0;31mNameError\u001b[0m                                 Traceback (most recent call last)",
            "\u001b[0;32m<ipython-input-23-c53c7c0c1acb>\u001b[0m in \u001b[0;36m<cell line: 2>\u001b[0;34m()\u001b[0m\n\u001b[1;32m      1\u001b[0m \u001b[0mmensaje_bienvenida\u001b[0m \u001b[0;34m=\u001b[0m \u001b[0;34m\"hola\"\u001b[0m\u001b[0;34m\u001b[0m\u001b[0;34m\u001b[0m\u001b[0m\n\u001b[0;32m----> 2\u001b[0;31m \u001b[0mprint\u001b[0m \u001b[0;34m(\u001b[0m\u001b[0mmensaje_benvenida\u001b[0m\u001b[0;34m)\u001b[0m\u001b[0;34m\u001b[0m\u001b[0;34m\u001b[0m\u001b[0m\n\u001b[0m",
            "\u001b[0;31mNameError\u001b[0m: name 'mensaje_benvenida' is not defined"
          ]
        }
      ]
    },
    {
      "cell_type": "markdown",
      "source": [
        "Escribe por pantalla hola mundo y que salga con tu nombre (** pista: para el nombre hay que usar una variable)\n"
      ],
      "metadata": {
        "id": "-l9_J658edcs"
      }
    },
    {
      "cell_type": "code",
      "source": [
        "nombre = \"Alfonso\"\n",
        "print (\"hola mundo:\\n \" + nombre)"
      ],
      "metadata": {
        "colab": {
          "base_uri": "https://localhost:8080/"
        },
        "id": "GWHvjJSJiWVB",
        "outputId": "f273cda8-ba06-43af-c235-55598ecd9832"
      },
      "execution_count": null,
      "outputs": [
        {
          "output_type": "stream",
          "name": "stdout",
          "text": [
            "hola mundo:\n",
            " Alfonso\n"
          ]
        }
      ]
    },
    {
      "cell_type": "code",
      "source": [
        "nombre = \"Alfonso\"\n",
        "print (\"hola mundo: \" + nombre)"
      ],
      "metadata": {
        "colab": {
          "base_uri": "https://localhost:8080/"
        },
        "id": "pl5-PWKHit-c",
        "outputId": "6d4ca469-edc5-4ed0-e57c-ef9103dcbcc8"
      },
      "execution_count": null,
      "outputs": [
        {
          "output_type": "stream",
          "name": "stdout",
          "text": [
            "hola mundo: Alfonso\n"
          ]
        }
      ]
    }
  ]
}
